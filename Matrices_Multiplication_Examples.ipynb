{
 "cells": [
  {
   "cell_type": "markdown",
   "metadata": {},
   "source": [
    "###### This notebook exemplify  matrices  mutiplication with simple matrices (with np.dot versus np.outer)\n",
    "\n",
    "###### This notebook exemplify  matrices  mutiplication used in an equivalent layer  (with np.dot versus np.outer)"
   ]
  },
  {
   "cell_type": "code",
   "execution_count": 1,
   "metadata": {
    "collapsed": false
   },
   "outputs": [
    {
     "name": "stderr",
     "output_type": "stream",
     "text": [
      "C:\\Anaconda2\\lib\\site-packages\\fatiando\\vis\\mpl.py:70: UserWarning: This module will be removed in v0.6. We recommend the use of matplotlib.pyplot module directly. Some of the fatiando specific functions will remain.\n",
      "  \"specific functions will remain.\")\n"
     ]
    }
   ],
   "source": [
    "%matplotlib inline\n",
    "import numpy as np\n",
    "\n",
    "from matplotlib import pyplot as plt\n",
    "from datetime import datetime\n",
    "\n",
    "from fatiando.vis import mpl\n",
    "from fatiando import mesher, gridder, utils\n",
    "from fatiando.gravmag import prism, sphere\n",
    "from fatiando.constants import G, SI2MGAL\n",
    "\n"
   ]
  },
  {
   "cell_type": "code",
   "execution_count": 2,
   "metadata": {
    "collapsed": true
   },
   "outputs": [],
   "source": [
    "# gz component of a point of mass located at xk, yk, zk computed at the observation point xi, yi, zi\n",
    "def AZ(xi,yi,zi,xk,yk,zk):\n",
    "    raio = 1.0\n",
    "    volume = 1.0 \n",
    "    rz = zi-zk\n",
    "    rx = xi-xk\n",
    "    ry = yi-yk\n",
    "    r  = np.sqrt(rx**2+ry**2+rz**2)\n",
    "    r3=r**3\n",
    "    gz = -volume*G*rz/r3\n",
    "    Az = gz*SI2MGAL\n",
    "    return Az\n"
   ]
  },
  {
   "cell_type": "markdown",
   "metadata": {},
   "source": [
    "##### Multiplications of simple matrices:"
   ]
  },
  {
   "cell_type": "markdown",
   "metadata": {
    "collapsed": true
   },
   "source": [
    "####  Testing multiplications of simple matrices: Exemples A * B"
   ]
  },
  {
   "cell_type": "code",
   "execution_count": 3,
   "metadata": {
    "collapsed": false
   },
   "outputs": [
    {
     "name": "stdout",
     "output_type": "stream",
     "text": [
      "A = [[ 10.  10.  10.]\n",
      " [ 11.  11.  11.]\n",
      " [ 12.  12.  12.]\n",
      " [ 13.  13.  13.]]\n",
      "B = [[ 100.  100.]\n",
      " [ 101.  101.]\n",
      " [ 102.  102.]]\n",
      "AB = [[ 3030.  3030.]\n",
      " [ 3333.  3333.]\n",
      " [ 3636.  3636.]\n",
      " [ 3939.  3939.]]\n",
      "AB1 = [[ 3030.  3030.]\n",
      " [ 3333.  3333.]\n",
      " [ 3636.  3636.]\n",
      " [ 3939.  3939.]]\n",
      "AB2 = [[ 3030.  3030.]\n",
      " [ 3333.  3333.]\n",
      " [ 3636.  3636.]\n",
      " [ 3939.  3939.]]\n"
     ]
    }
   ],
   "source": [
    "#  A = (na x ma)\n",
    "na = 4\n",
    "ma = 3\n",
    "A = np.zeros(shape=(na,ma))\n",
    "#print A\n",
    "\n",
    "for i in range(na):\n",
    "    A[i,:] = i + 10.\n",
    "print 'A =', A\n",
    "\n",
    "#  B = (nb x mb)\n",
    "nb = ma\n",
    "mb = 2 \n",
    "B = np.zeros(shape=(nb, mb))\n",
    "#print B\n",
    "\n",
    "for i in range(nb):\n",
    "    B[i,:] = i + 100.\n",
    "print 'B =', B \n",
    "\n",
    "\n",
    "# multiplying A * B\n",
    "\n",
    "AB = np.dot(A,B)\n",
    "print 'AB =', AB\n",
    "\n",
    "# multiplying with outter\n",
    "\n",
    "temp1 = np.outer(A[:,0], B[0,:])\n",
    "temp2 = np.outer(A[:,1], B[1,:])\n",
    "temp3 = np.outer(A[:,2], B[2,:])\n",
    "\n",
    "AB1 = temp1+temp2+temp3\n",
    "\n",
    "print 'AB1 =', AB1\n",
    "\n",
    "np.allclose(AB1, AB)\n",
    "\n",
    "# multiplying with outter\n",
    "AB2 = np.zeros(shape=(na,mb))\n",
    "\n",
    "for i in range(ma):\n",
    "    AB2 = np.outer(A[:,i], B[i,:]) + AB2\n",
    "\n",
    "print 'AB2 =', AB2"
   ]
  },
  {
   "cell_type": "code",
   "execution_count": 4,
   "metadata": {
    "collapsed": true
   },
   "outputs": [],
   "source": [
    "#  Testing multiplications of matrices: Exemples At* A"
   ]
  },
  {
   "cell_type": "code",
   "execution_count": 5,
   "metadata": {
    "collapsed": false
   },
   "outputs": [
    {
     "name": "stdout",
     "output_type": "stream",
     "text": [
      "A = [[ 10.  10.  10.]\n",
      " [ 11.  11.  11.]\n",
      " [ 12.  12.  12.]\n",
      " [ 13.  13.  13.]]\n",
      "AT = [[ 10.  11.  12.  13.]\n",
      " [ 10.  11.  12.  13.]\n",
      " [ 10.  11.  12.  13.]]\n",
      "ATA = [[ 534.  534.  534.]\n",
      " [ 534.  534.  534.]\n",
      " [ 534.  534.  534.]]\n",
      "ATA1 = [[ 534.  534.  534.]\n",
      " [ 534.  534.  534.]\n",
      " [ 534.  534.  534.]]\n"
     ]
    }
   ],
   "source": [
    "#  A = (na x ma)\n",
    "na = 4\n",
    "ma = 3\n",
    "A = np.zeros(shape=(na,ma))\n",
    "\n",
    "for i in range(na):\n",
    "    A[i,:] = i + 10.\n",
    "print 'A =', A\n",
    "\n",
    "# transposition of A\n",
    "\n",
    "AT = np.transpose(A)\n",
    "print 'AT =', AT\n",
    "\n",
    "\n",
    "# multiplying At * A\n",
    "\n",
    "ATA = np.dot(AT,A)\n",
    "print 'ATA =', ATA\n",
    "\n",
    "\n",
    "# multiplying with outter\n",
    "ATA1 = np.zeros(shape=(ma,ma))\n",
    "\n",
    "for i in range(na):\n",
    "    ATA1 = np.outer(A[i,:], A[i,:]) + ATA1\n",
    "\n",
    "print 'ATA1 =', ATA1"
   ]
  },
  {
   "cell_type": "code",
   "execution_count": 6,
   "metadata": {
    "collapsed": true
   },
   "outputs": [],
   "source": [
    "#  Testing multiplications of a transposed matrix by a vector: Exemples At* d"
   ]
  },
  {
   "cell_type": "code",
   "execution_count": 7,
   "metadata": {
    "collapsed": false
   },
   "outputs": [
    {
     "name": "stdout",
     "output_type": "stream",
     "text": [
      "A = [[ 10.  10.  10.]\n",
      " [ 11.  11.  11.]\n",
      " [ 12.  12.  12.]\n",
      " [ 13.  13.  13.]]\n",
      "AT = [[ 10.  11.  12.  13.]\n",
      " [ 10.  11.  12.  13.]\n",
      " [ 10.  11.  12.  13.]]\n",
      "d = [ 1000.  1001.  1002.  1003.]\n",
      "ATd = [ 46074.  46074.  46074.]\n",
      "ATd1 = [[ 46074.  46074.  46074.]\n",
      " [ 46074.  46074.  46074.]\n",
      " [ 46074.  46074.  46074.]]\n"
     ]
    }
   ],
   "source": [
    "#  A = (na x ma)\n",
    "na = 4\n",
    "ma = 3\n",
    "A = np.zeros(shape=(na,ma))\n",
    "\n",
    "for i in range(na):\n",
    "    A[i,:] = i + 10.\n",
    "print 'A =', A\n",
    "\n",
    "# transposition of A\n",
    "\n",
    "AT = np.transpose(A)\n",
    "print 'AT =', AT\n",
    "\n",
    "# Creating a vector\n",
    "d = np.zeros(shape=(na))\n",
    "\n",
    "for i in range(na):\n",
    "    d[i] = i + 1000.\n",
    "print 'd =', d\n",
    "\n",
    "# multiplying At * d\n",
    "\n",
    "ATd = np.dot(AT,d)\n",
    "print 'ATd =', ATd\n",
    "\n",
    "\n",
    "# multiplying with outter\n",
    "ATd1 = np.zeros(shape=(ma))\n",
    "\n",
    "for i in range(na):\n",
    "    ATd1 = np.outer(A[i,:], d[i]) + ATd1\n",
    "\n",
    "print 'ATd1 =', ATd1"
   ]
  },
  {
   "cell_type": "code",
   "execution_count": 8,
   "metadata": {
    "collapsed": false
   },
   "outputs": [
    {
     "name": "stdout",
     "output_type": "stream",
     "text": [
      "A = [[ 10.  10.  10.]\n",
      " [ 11.  11.  11.]\n",
      " [ 12.  12.  12.]\n",
      " [ 13.  13.  13.]]\n",
      "<type 'numpy.ndarray'> 4\n",
      "ATA2 = [[ 534.  534.  534.]\n",
      " [ 534.  534.  534.]\n",
      " [ 534.  534.  534.]]\n"
     ]
    }
   ],
   "source": [
    "#  A = (na x ma)\n",
    "na = 4\n",
    "ma = 3\n",
    "A = np.zeros((na,ma),dtype =float)\n",
    "\n",
    "for i in range(na):\n",
    "    A[i,:] = i + 10.\n",
    "print 'A =', A\n",
    "print type(A), len(A)\n",
    "\n",
    "# multiplying with outter\n",
    "ATA2 = np.zeros((ma,ma),dtype =float)\n",
    "\n",
    "for i in range(na):\n",
    "    ATA2 = np.outer(A[i,:], A[i,:]) + ATA2\n",
    "\n",
    "print 'ATA2 =', ATA2"
   ]
  },
  {
   "cell_type": "code",
   "execution_count": 9,
   "metadata": {
    "collapsed": false
   },
   "outputs": [
    {
     "data": {
      "text/plain": [
       "True"
      ]
     },
     "execution_count": 9,
     "metadata": {},
     "output_type": "execute_result"
    }
   ],
   "source": [
    "np.allclose(AB1, AB)\n"
   ]
  },
  {
   "cell_type": "code",
   "execution_count": 10,
   "metadata": {
    "collapsed": false
   },
   "outputs": [
    {
     "data": {
      "text/plain": [
       "True"
      ]
     },
     "execution_count": 10,
     "metadata": {},
     "output_type": "execute_result"
    }
   ],
   "source": [
    "np.allclose(AB2, AB)\n"
   ]
  },
  {
   "cell_type": "code",
   "execution_count": 11,
   "metadata": {
    "collapsed": false
   },
   "outputs": [
    {
     "data": {
      "text/plain": [
       "True"
      ]
     },
     "execution_count": 11,
     "metadata": {},
     "output_type": "execute_result"
    }
   ],
   "source": [
    "np.allclose(ATA1, ATA)\n"
   ]
  },
  {
   "cell_type": "code",
   "execution_count": 12,
   "metadata": {
    "collapsed": false
   },
   "outputs": [
    {
     "data": {
      "text/plain": [
       "True"
      ]
     },
     "execution_count": 12,
     "metadata": {},
     "output_type": "execute_result"
    }
   ],
   "source": [
    "np.allclose(ATd1, ATd)"
   ]
  },
  {
   "cell_type": "markdown",
   "metadata": {},
   "source": [
    "####  Matrices  mutiplication used in an equivalent layer  (with np.dot versus np.outer)"
   ]
  },
  {
   "cell_type": "code",
   "execution_count": 13,
   "metadata": {
    "collapsed": true
   },
   "outputs": [],
   "source": [
    "start_time_total = datetime.now()\n",
    "\n",
    "N_East  = 50\n",
    "N_North = 25\n",
    "area   = (-1000, 1000, -500, 500)\n",
    "shape_obs = (N_North,N_East)\n",
    "\n",
    "z_dado = -150.0\n",
    "\n",
    "xp, yp, zp = gridder.regular(area, shape_obs, z=z_dado)\n",
    "\n"
   ]
  },
  {
   "cell_type": "code",
   "execution_count": 14,
   "metadata": {
    "collapsed": false
   },
   "outputs": [
    {
     "name": "stdout",
     "output_type": "stream",
     "text": [
      "('Number of observation points ', 1250)\n"
     ]
    }
   ],
   "source": [
    "# Number of observation points \n",
    "Npts = N_East * N_North \n",
    "\n",
    "print ('Number of observation points ', Npts)"
   ]
  },
  {
   "cell_type": "code",
   "execution_count": 15,
   "metadata": {
    "collapsed": true
   },
   "outputs": [],
   "source": [
    "# creating the equivalent Layer x and y coordinates \n",
    "\n",
    "xs = np.copy(xp)\n",
    "ys = np.copy(yp)\n",
    "\n",
    "#horizontal plane containing the equivalent sources located at plano_fonte \n",
    "plano_fonte=200.\n",
    "zs = np.zeros_like(zp) + plano_fonte\n"
   ]
  },
  {
   "cell_type": "code",
   "execution_count": 16,
   "metadata": {
    "collapsed": false
   },
   "outputs": [
    {
     "name": "stdout",
     "output_type": "stream",
     "text": [
      "('Number of observation Equivalent sources  ', 1250)\n"
     ]
    }
   ],
   "source": [
    "# Number os equivalent sources\n",
    "\n",
    "M_source= len(xs)\n",
    "\n",
    "print ('Number of observation Equivalent sources  ', M_source)"
   ]
  },
  {
   "cell_type": "code",
   "execution_count": 17,
   "metadata": {
    "collapsed": false
   },
   "outputs": [
    {
     "data": {
      "text/plain": [
       "[<matplotlib.lines.Line2D at 0x7a5b4e0>]"
      ]
     },
     "execution_count": 17,
     "metadata": {},
     "output_type": "execute_result"
    },
    {
     "data": {
      "image/png": "[encoded data removed]",
      "text/plain": [
       "<matplotlib.figure.Figure at 0x794a780>"
      ]
     },
     "metadata": {},
     "output_type": "display_data"
    }
   ],
   "source": [
    "plt.figure(figsize=(18, 6))\n",
    "plt.plot(yp,xp, 'r.', markersize = 12)"
   ]
  },
  {
   "cell_type": "code",
   "execution_count": 18,
   "metadata": {
    "collapsed": false
   },
   "outputs": [
    {
     "name": "stdout",
     "output_type": "stream",
     "text": [
      "Time to set up the sensitivity matrix: 0:00:00.139000\n"
     ]
    }
   ],
   "source": [
    "# Computing the sensitivity matrix by row\n",
    "\n",
    "start_time_G = datetime.now() \n",
    "\n",
    "A_GZ = np.empty((Npts,M_source),dtype = float)\n",
    "\n",
    "for i in range(Npts):\n",
    "    A_GZ[i,:] = AZ(xp[i], yp[i], zp[i], xs,ys,zs)\n",
    "    \n",
    "end_time_G  = datetime.now()\n",
    "print('Time to set up the sensitivity matrix: {}'.format(end_time_G  - start_time_G ))  \n",
    "\n",
    "Time_G = end_time_G  - start_time_G"
   ]
  },
  {
   "cell_type": "markdown",
   "metadata": {},
   "source": [
    "## Three different ways to create the Hessiana matrix "
   ]
  },
  {
   "cell_type": "code",
   "execution_count": 19,
   "metadata": {
    "collapsed": false
   },
   "outputs": [
    {
     "name": "stdout",
     "output_type": "stream",
     "text": [
      "Time to set up the Hessiana matrix via np.dot GTG: 0:00:00.066000\n",
      "Total time to set up G + GTG via np.dot is: 0:00:00.205000\n"
     ]
    }
   ],
   "source": [
    "# Classical: Computing the Hessiana matrix by using np.dot\n",
    "\n",
    "start_time_GTG = datetime.now() \n",
    "\n",
    "GTG = np.empty((M_source,M_source),dtype =float)\n",
    "GTG = np.dot(A_GZ.T, A_GZ)\n",
    "\n",
    "\n",
    "end_time_GTG  = datetime.now()\n",
    "print('Time to set up the Hessiana matrix via np.dot GTG: {}'.format(end_time_GTG  - start_time_GTG ))  \n",
    "\n",
    "Time_GTG = end_time_GTG  - start_time_GTG\n",
    "\n",
    "Time_1 = Time_G + Time_GTG\n",
    "print ('Total time to set up G + GTG via np.dot is: {}'.format(Time_G + Time_GTG )) "
   ]
  },
  {
   "cell_type": "code",
   "execution_count": 20,
   "metadata": {
    "collapsed": false
   },
   "outputs": [
    {
     "name": "stdout",
     "output_type": "stream",
     "text": [
      "Time to set up the Hessiana matrix via np.outer GTG1: 0:00:08.118000\n",
      "Total time to set up G + GTG1  via np.outer is: 0:00:08.257000\n"
     ]
    }
   ],
   "source": [
    "# Computing the Hessiana matrix by using np.outer and with the sensitivity matrix previously computed\n",
    "\n",
    "start_time_GTG1 = datetime.now() \n",
    "\n",
    "GTG1 = np.empty((M_source,M_source),dtype =float)\n",
    "\n",
    "for i in range(Npts):\n",
    "    GTG1 += np.outer(A_GZ[i,:], A_GZ[i,:]) \n",
    "\n",
    "end_time_GTG1  = datetime.now()\n",
    "print('Time to set up the Hessiana matrix via np.outer GTG1: {}'.format(end_time_GTG1  - start_time_GTG1 ))  \n",
    "\n",
    "\n",
    "Time_GTG1 = end_time_GTG1  - start_time_GTG1\n",
    "Time_2 = Time_G + Time_GTG1 \n",
    "\n",
    "print ('Total time to set up G + GTG1  via np.outer is: {}'.format(Time_G + Time_GTG1 )) "
   ]
  },
  {
   "cell_type": "code",
   "execution_count": 21,
   "metadata": {
    "collapsed": false
   },
   "outputs": [
    {
     "data": {
      "text/plain": [
       "True"
      ]
     },
     "execution_count": 21,
     "metadata": {},
     "output_type": "execute_result"
    }
   ],
   "source": [
    "np.allclose(GTG1, GTG)"
   ]
  },
  {
   "cell_type": "code",
   "execution_count": 22,
   "metadata": {
    "collapsed": false
   },
   "outputs": [
    {
     "name": "stdout",
     "output_type": "stream",
     "text": [
      "Total time to set up the Hessiana matrix GTG2 via np.outer and WITHOUT the sensitivity matrix:0:00:08.334000\n"
     ]
    }
   ],
   "source": [
    "# Computing THE Hessiana matrix via np.outer and WITHOUT seting up the sensitivity matrix \n",
    "\n",
    "start_time_GTG2 = datetime.now() \n",
    "\n",
    "GTG2 = np.empty((M_source,M_source),dtype =float)\n",
    "\n",
    "for i in range(Npts):\n",
    "    GTG2 += np.outer(AZ(xp[i], yp[i], zp[i], xs,ys,zs), AZ(xp[i], yp[i], zp[i], xs,ys,zs))\n",
    "    \n",
    "end_time_GTG2  = datetime.now()\n",
    "print('Total time to set up the Hessiana matrix GTG2 via np.outer and WITHOUT the sensitivity matrix:{}'.format(end_time_GTG2  - start_time_GTG2 ))  \n",
    "   \n",
    "Time_3 = end_time_GTG2  - start_time_GTG2"
   ]
  },
  {
   "cell_type": "code",
   "execution_count": 23,
   "metadata": {
    "collapsed": false
   },
   "outputs": [
    {
     "data": {
      "text/plain": [
       "True"
      ]
     },
     "execution_count": 23,
     "metadata": {},
     "output_type": "execute_result"
    }
   ],
   "source": [
    "np.allclose(GTG2, GTG)"
   ]
  }
 ],
 "metadata": {
  "anaconda-cloud": {},
  "kernelspec": {
   "display_name": "Python 2",
   "language": "python",
   "name": "python2"
  },
  "language_info": {
   "codemirror_mode": {
    "name": "ipython",
    "version": 2
   },
   "file_extension": ".py",
   "mimetype": "text/x-python",
   "name": "python",
   "nbconvert_exporter": "python",
   "pygments_lexer": "ipython2",
   "version": "2.7.13"
  }
 },
 "nbformat": 4,
 "nbformat_minor": 1
}
